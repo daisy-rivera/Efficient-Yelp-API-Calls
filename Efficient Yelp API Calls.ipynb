{
 "cells": [
  {
   "cell_type": "markdown",
   "id": "db249bb4",
   "metadata": {},
   "source": [
    "# Efficient Yelp API Calls"
   ]
  },
  {
   "cell_type": "markdown",
   "id": "b287a2fa",
   "metadata": {},
   "source": [
    "### Imports"
   ]
  },
  {
   "cell_type": "code",
   "execution_count": 1,
   "id": "44f9e651",
   "metadata": {},
   "outputs": [],
   "source": [
    "# Standard Imports\n",
    "import numpy as np\n",
    "import pandas as pd\n",
    "import matplotlib.pyplot as plt\n",
    "import seaborn as sns\n",
    "\n",
    "# Additional Imports\n",
    "#os for saving and loading files\n",
    "#json - to work with json files\n",
    "#math - to round up results\n",
    "#time - to add a short pause to not overwhelm the server\n",
    "import os, json, math, time\n",
    "\n",
    "#to make yelpapi calls\n",
    "from yelpapi import YelpAPI\n",
    "\n",
    "#progress bar\n",
    "from tqdm.notebook import tqdm_notebook"
   ]
  },
  {
   "cell_type": "code",
   "execution_count": 2,
   "id": "89d36047",
   "metadata": {},
   "outputs": [
    {
     "name": "stdout",
     "output_type": "stream",
     "text": [
      "Requirement already satisfied: yelpapi in c:\\users\\daisy\\anaconda3\\envs\\dojo-env\\lib\\site-packages (2.5.0)\n",
      "Requirement already satisfied: requests in c:\\users\\daisy\\anaconda3\\envs\\dojo-env\\lib\\site-packages (from yelpapi) (2.28.1)\n",
      "Requirement already satisfied: idna<4,>=2.5 in c:\\users\\daisy\\anaconda3\\envs\\dojo-env\\lib\\site-packages (from requests->yelpapi) (3.4)\n",
      "Requirement already satisfied: charset-normalizer<3,>=2 in c:\\users\\daisy\\anaconda3\\envs\\dojo-env\\lib\\site-packages (from requests->yelpapi) (2.0.4)\n",
      "Requirement already satisfied: certifi>=2017.4.17 in c:\\users\\daisy\\anaconda3\\envs\\dojo-env\\lib\\site-packages (from requests->yelpapi) (2022.9.24)\n",
      "Requirement already satisfied: urllib3<1.27,>=1.21.1 in c:\\users\\daisy\\anaconda3\\envs\\dojo-env\\lib\\site-packages (from requests->yelpapi) (1.26.13)\n",
      "Requirement already satisfied: tqdm in c:\\users\\daisy\\anaconda3\\envs\\dojo-env\\lib\\site-packages (4.64.1)\n",
      "Requirement already satisfied: colorama in c:\\users\\daisy\\anaconda3\\envs\\dojo-env\\lib\\site-packages (from tqdm) (0.4.5)\n"
     ]
    }
   ],
   "source": [
    "!pip install yelpapi\n",
    "!pip install tqdm"
   ]
  },
  {
   "cell_type": "markdown",
   "id": "7d605f90",
   "metadata": {},
   "source": [
    "### Importing Yelp API Credentials"
   ]
  },
  {
   "cell_type": "code",
   "execution_count": 3,
   "id": "aa603701",
   "metadata": {},
   "outputs": [
    {
     "data": {
      "text/plain": [
       "dict_keys(['client-id', 'api-key'])"
      ]
     },
     "execution_count": 3,
     "metadata": {},
     "output_type": "execute_result"
    }
   ],
   "source": [
    "#load API credentials\n",
    "with open('/Users/Daisy/.secret/yelp_api.json','r') as f: #change the path to match YOUR path!!\n",
    "    login = json.load(f)\n",
    "login.keys()"
   ]
  },
  {
   "cell_type": "code",
   "execution_count": 4,
   "id": "b3219ee4",
   "metadata": {},
   "outputs": [],
   "source": [
    "#Instantiate YelpAPI Variable\n",
    "yelp = YelpAPI(login['api-key'], timeout_s = 5.0)"
   ]
  },
  {
   "cell_type": "markdown",
   "id": "a670b9ac",
   "metadata": {},
   "source": [
    "### Define Search Terms and File Paths"
   ]
  },
  {
   "cell_type": "code",
   "execution_count": 5,
   "id": "d7400e17",
   "metadata": {},
   "outputs": [],
   "source": [
    "#set API call parameters and filename prior to fist call\n",
    "location = 'San Antonio, TX 78213'\n",
    "term = 'pizza'"
   ]
  },
  {
   "cell_type": "code",
   "execution_count": 6,
   "id": "31ccc422",
   "metadata": {},
   "outputs": [
    {
     "data": {
      "text/plain": [
       "'San Antonio'"
      ]
     },
     "execution_count": 6,
     "metadata": {},
     "output_type": "execute_result"
    }
   ],
   "source": [
    "location.split(',')[0]"
   ]
  },
  {
   "cell_type": "code",
   "execution_count": 7,
   "id": "78c935a4",
   "metadata": {},
   "outputs": [],
   "source": [
    "#specify folder for saving data\n",
    "FOLDER = 'Data/'\n",
    "\n",
    "#creating folder (if exists_ok so you don't get error if exists)\n",
    "os.makedirs(FOLDER, exist_ok =True)\n",
    "\n",
    "#specify JSON_FILE filename (can include folder)\n",
    "JSON_FILE = FOLDER+f\"{location.split(',')[0]}-{term}.json\"\n"
   ]
  },
  {
   "cell_type": "code",
   "execution_count": 8,
   "id": "81eb0d13",
   "metadata": {},
   "outputs": [
    {
     "data": {
      "text/plain": [
       "'Data/San Antonio-pizza.json'"
      ]
     },
     "execution_count": 8,
     "metadata": {},
     "output_type": "execute_result"
    }
   ],
   "source": [
    "JSON_FILE"
   ]
  },
  {
   "cell_type": "markdown",
   "id": "99af5576",
   "metadata": {},
   "source": [
    "### Checking if Json File Exists and Create it if it doesn't"
   ]
  },
  {
   "cell_type": "code",
   "execution_count": 9,
   "id": "82c80cbc",
   "metadata": {},
   "outputs": [
    {
     "name": "stdout",
     "output_type": "stream",
     "text": [
      "[i] Data/San Antonio-pizza.json already exists.\n"
     ]
    }
   ],
   "source": [
    "# check if json file exists\n",
    "file_exists = os.path.isfile(JSON_FILE)\n",
    "## If does not exist:\n",
    "if file_exists == False:\n",
    "    #create needed folders and get folder name only\n",
    "    folder = os.path.dirname(JSON_FILE)\n",
    "    \n",
    "    # If JSON File included a folder:\n",
    "    if len(folder)>0:\n",
    "        os.makedirs(folder, exist_ok = True)\n",
    "        \n",
    "    #inform user and save empty list\n",
    "    print(f\"[i] {JSON_FILE} not found. Saving empty list to file.\")\n",
    "    \n",
    "    #save the first page of results\n",
    "    with open(JSON_FILE, 'w') as f:\n",
    "        json.dump([],f)\n",
    "\n",
    "# if it exists, inform user\n",
    "else:\n",
    "    print(f\"[i] {JSON_FILE} already exists.\")"
   ]
  },
  {
   "cell_type": "markdown",
   "id": "13f3f1ec",
   "metadata": {},
   "source": [
    "### Make first API call and first page of data"
   ]
  },
  {
   "cell_type": "code",
   "execution_count": 10,
   "id": "0890884d",
   "metadata": {},
   "outputs": [],
   "source": [
    "#use yelp_api variable's 'search_query' method to perform API call\n",
    "results = yelp.search_query(location=location,term=term)"
   ]
  },
  {
   "cell_type": "code",
   "execution_count": 11,
   "id": "c3e022fb",
   "metadata": {},
   "outputs": [
    {
     "data": {
      "text/plain": [
       "dict"
      ]
     },
     "execution_count": 11,
     "metadata": {},
     "output_type": "execute_result"
    }
   ],
   "source": [
    "#checking type\n",
    "type(results)"
   ]
  },
  {
   "cell_type": "code",
   "execution_count": 12,
   "id": "489d165d",
   "metadata": {},
   "outputs": [
    {
     "data": {
      "text/plain": [
       "dict_keys(['businesses', 'total', 'region'])"
      ]
     },
     "execution_count": 12,
     "metadata": {},
     "output_type": "execute_result"
    }
   ],
   "source": [
    "#verifying the keys\n",
    "results.keys()"
   ]
  },
  {
   "cell_type": "code",
   "execution_count": 13,
   "id": "8f8d6a7d",
   "metadata": {},
   "outputs": [
    {
     "data": {
      "text/plain": [
       "509"
      ]
     },
     "execution_count": 13,
     "metadata": {},
     "output_type": "execute_result"
    }
   ],
   "source": [
    "#checking how many total results and saving as a variable\n",
    "total_results = results['total']\n",
    "total_results"
   ]
  },
  {
   "cell_type": "code",
   "execution_count": 14,
   "id": "cb8f6391",
   "metadata": {},
   "outputs": [
    {
     "data": {
      "text/plain": [
       "20"
      ]
     },
     "execution_count": 14,
     "metadata": {},
     "output_type": "execute_result"
    }
   ],
   "source": [
    "#checking how many businesses results\n",
    "results_perpage = len(results['businesses'])\n",
    "results_perpage"
   ]
  },
  {
   "cell_type": "code",
   "execution_count": 15,
   "id": "e7233a74",
   "metadata": {},
   "outputs": [
    {
     "data": {
      "text/plain": [
       "26"
      ]
     },
     "execution_count": 15,
     "metadata": {},
     "output_type": "execute_result"
    }
   ],
   "source": [
    "#checking how many pages of results will need rounding up\n",
    "n_pages = math.ceil(total_results/ results_perpage)\n",
    "n_pages"
   ]
  },
  {
   "cell_type": "code",
   "execution_count": 16,
   "id": "148ae93d",
   "metadata": {},
   "outputs": [
    {
     "data": {
      "application/vnd.jupyter.widget-view+json": {
       "model_id": "9da8cd8fd73e47efa996d5dbaa5ef3ba",
       "version_major": 2,
       "version_minor": 0
      },
      "text/plain": [
       "  0%|          | 0/26 [00:00<?, ?it/s]"
      ]
     },
     "metadata": {},
     "output_type": "display_data"
    }
   ],
   "source": [
    "\n",
    "for i in tqdm_notebook(range(1,n_pages+1)):\n",
    "    try:\n",
    "        time.sleep(.2)\n",
    "        \n",
    "        #read in results in progress file and check the length\n",
    "        with open(JSON_FILE, 'r')as f:\n",
    "            previous_results = json.load(f)\n",
    "        \n",
    "        #save # of results to use as offset\n",
    "        n_results = len(previous_results)\n",
    "        \n",
    "        #use n_results as the offset\n",
    "        results = yelp.search_query(location=location, term=term,\n",
    "                                     offset = n_results+1)\n",
    "        \n",
    "        #append new results and save to file\n",
    "        previous_results.extend(results['businesses'])\n",
    "        \n",
    "        with open(JSON_FILE,'w') as f:\n",
    "            json.dump(previous_results,f)\n",
    "    \n",
    "    #what to do if we get an error/exemption\n",
    "    except Exception as e:\n",
    "        print('[i] ERROR',e)\n",
    "    "
   ]
  },
  {
   "cell_type": "markdown",
   "id": "c178abe4",
   "metadata": {},
   "source": [
    "### Convert JSON file to dataframe"
   ]
  },
  {
   "cell_type": "code",
   "execution_count": 17,
   "id": "38e43af0",
   "metadata": {},
   "outputs": [],
   "source": [
    "df = pd.read_json(JSON_FILE)"
   ]
  },
  {
   "cell_type": "code",
   "execution_count": 18,
   "id": "cff98d47",
   "metadata": {},
   "outputs": [
    {
     "data": {
      "text/html": [
       "<div>\n",
       "<style scoped>\n",
       "    .dataframe tbody tr th:only-of-type {\n",
       "        vertical-align: middle;\n",
       "    }\n",
       "\n",
       "    .dataframe tbody tr th {\n",
       "        vertical-align: top;\n",
       "    }\n",
       "\n",
       "    .dataframe thead th {\n",
       "        text-align: right;\n",
       "    }\n",
       "</style>\n",
       "<table border=\"1\" class=\"dataframe\">\n",
       "  <thead>\n",
       "    <tr style=\"text-align: right;\">\n",
       "      <th></th>\n",
       "      <th>id</th>\n",
       "      <th>alias</th>\n",
       "      <th>name</th>\n",
       "      <th>image_url</th>\n",
       "      <th>is_closed</th>\n",
       "      <th>url</th>\n",
       "      <th>review_count</th>\n",
       "      <th>categories</th>\n",
       "      <th>rating</th>\n",
       "      <th>coordinates</th>\n",
       "      <th>transactions</th>\n",
       "      <th>price</th>\n",
       "      <th>location</th>\n",
       "      <th>phone</th>\n",
       "      <th>display_phone</th>\n",
       "      <th>distance</th>\n",
       "    </tr>\n",
       "  </thead>\n",
       "  <tbody>\n",
       "    <tr>\n",
       "      <th>0</th>\n",
       "      <td>mE8oeT-264q0MRKhVo7j8A</td>\n",
       "      <td>dough-pizzeria-napoletana-san-antonio</td>\n",
       "      <td>Dough Pizzeria Napoletana</td>\n",
       "      <td>https://s3-media2.fl.yelpcdn.com/bphoto/nMZExv...</td>\n",
       "      <td>False</td>\n",
       "      <td>https://www.yelp.com/biz/dough-pizzeria-napole...</td>\n",
       "      <td>1775</td>\n",
       "      <td>[{'alias': 'pizza', 'title': 'Pizza'}, {'alias...</td>\n",
       "      <td>4.0</td>\n",
       "      <td>{'latitude': 29.5195143, 'longitude': -98.5069...</td>\n",
       "      <td>[delivery]</td>\n",
       "      <td>$$</td>\n",
       "      <td>{'address1': '6989 Blanco Rd', 'address2': '',...</td>\n",
       "      <td>+12109796565</td>\n",
       "      <td>(210) 979-6565</td>\n",
       "      <td>2093.693197</td>\n",
       "    </tr>\n",
       "    <tr>\n",
       "      <th>1</th>\n",
       "      <td>Ht62-ZGuv8gzRJ_pO-kV_w</td>\n",
       "      <td>via-313-pizza-gateway-san-antonio</td>\n",
       "      <td>Via 313 Pizza - Gateway</td>\n",
       "      <td>https://s3-media1.fl.yelpcdn.com/bphoto/_sRd4q...</td>\n",
       "      <td>False</td>\n",
       "      <td>https://www.yelp.com/biz/via-313-pizza-gateway...</td>\n",
       "      <td>177</td>\n",
       "      <td>[{'alias': 'pizza', 'title': 'Pizza'}]</td>\n",
       "      <td>4.5</td>\n",
       "      <td>{'latitude': 29.520115, 'longitude': -98.5745}</td>\n",
       "      <td>[]</td>\n",
       "      <td>$$</td>\n",
       "      <td>{'address1': '8435 Wurzbach Rd', 'address2': '...</td>\n",
       "      <td>+12109851313</td>\n",
       "      <td>(210) 985-1313</td>\n",
       "      <td>4420.514542</td>\n",
       "    </tr>\n",
       "    <tr>\n",
       "      <th>2</th>\n",
       "      <td>3QZsFaM_sdzQ8uRITu3MwQ</td>\n",
       "      <td>yaghis-pizzeria-san-antonio</td>\n",
       "      <td>Yaghi's Pizzeria</td>\n",
       "      <td>https://s3-media1.fl.yelpcdn.com/bphoto/C2aWKe...</td>\n",
       "      <td>False</td>\n",
       "      <td>https://www.yelp.com/biz/yaghis-pizzeria-san-a...</td>\n",
       "      <td>284</td>\n",
       "      <td>[{'alias': 'pizza', 'title': 'Pizza'}, {'alias...</td>\n",
       "      <td>4.5</td>\n",
       "      <td>{'latitude': 29.5272754228422, 'longitude': -9...</td>\n",
       "      <td>[delivery]</td>\n",
       "      <td>$</td>\n",
       "      <td>{'address1': '5910 Babcock Rd', 'address2': 'S...</td>\n",
       "      <td>+12105588787</td>\n",
       "      <td>(210) 558-8787</td>\n",
       "      <td>7234.937657</td>\n",
       "    </tr>\n",
       "    <tr>\n",
       "      <th>3</th>\n",
       "      <td>UJaura9CFZAvGt-KfJohDQ</td>\n",
       "      <td>poppys-pizza-san-antonio-2</td>\n",
       "      <td>Poppys Pizza</td>\n",
       "      <td>https://s3-media4.fl.yelpcdn.com/bphoto/Yx4Rat...</td>\n",
       "      <td>False</td>\n",
       "      <td>https://www.yelp.com/biz/poppys-pizza-san-anto...</td>\n",
       "      <td>351</td>\n",
       "      <td>[{'alias': 'pizza', 'title': 'Pizza'}, {'alias...</td>\n",
       "      <td>4.0</td>\n",
       "      <td>{'latitude': 29.522676, 'longitude': -98.506518}</td>\n",
       "      <td>[pickup, delivery]</td>\n",
       "      <td>$</td>\n",
       "      <td>{'address1': '7115 Blanco Rd', 'address2': 'St...</td>\n",
       "      <td>+12103664000</td>\n",
       "      <td>(210) 366-4000</td>\n",
       "      <td>2160.173616</td>\n",
       "    </tr>\n",
       "    <tr>\n",
       "      <th>4</th>\n",
       "      <td>dNQQiYoZUcnl20G3pxUzag</td>\n",
       "      <td>goombas-pizzeria-san-antonio-3</td>\n",
       "      <td>Goomba's Pizzeria</td>\n",
       "      <td>https://s3-media2.fl.yelpcdn.com/bphoto/VpBM-d...</td>\n",
       "      <td>False</td>\n",
       "      <td>https://www.yelp.com/biz/goombas-pizzeria-san-...</td>\n",
       "      <td>231</td>\n",
       "      <td>[{'alias': 'pizza', 'title': 'Pizza'}, {'alias...</td>\n",
       "      <td>4.0</td>\n",
       "      <td>{'latitude': 29.5325103526716, 'longitude': -9...</td>\n",
       "      <td>[pickup, delivery]</td>\n",
       "      <td>$</td>\n",
       "      <td>{'address1': '9825 Ih 10 W', 'address2': '', '...</td>\n",
       "      <td>+12105611600</td>\n",
       "      <td>(210) 561-1600</td>\n",
       "      <td>3414.669145</td>\n",
       "    </tr>\n",
       "  </tbody>\n",
       "</table>\n",
       "</div>"
      ],
      "text/plain": [
       "                       id                                  alias  \\\n",
       "0  mE8oeT-264q0MRKhVo7j8A  dough-pizzeria-napoletana-san-antonio   \n",
       "1  Ht62-ZGuv8gzRJ_pO-kV_w      via-313-pizza-gateway-san-antonio   \n",
       "2  3QZsFaM_sdzQ8uRITu3MwQ            yaghis-pizzeria-san-antonio   \n",
       "3  UJaura9CFZAvGt-KfJohDQ             poppys-pizza-san-antonio-2   \n",
       "4  dNQQiYoZUcnl20G3pxUzag         goombas-pizzeria-san-antonio-3   \n",
       "\n",
       "                        name  \\\n",
       "0  Dough Pizzeria Napoletana   \n",
       "1    Via 313 Pizza - Gateway   \n",
       "2           Yaghi's Pizzeria   \n",
       "3               Poppys Pizza   \n",
       "4          Goomba's Pizzeria   \n",
       "\n",
       "                                           image_url  is_closed  \\\n",
       "0  https://s3-media2.fl.yelpcdn.com/bphoto/nMZExv...      False   \n",
       "1  https://s3-media1.fl.yelpcdn.com/bphoto/_sRd4q...      False   \n",
       "2  https://s3-media1.fl.yelpcdn.com/bphoto/C2aWKe...      False   \n",
       "3  https://s3-media4.fl.yelpcdn.com/bphoto/Yx4Rat...      False   \n",
       "4  https://s3-media2.fl.yelpcdn.com/bphoto/VpBM-d...      False   \n",
       "\n",
       "                                                 url  review_count  \\\n",
       "0  https://www.yelp.com/biz/dough-pizzeria-napole...          1775   \n",
       "1  https://www.yelp.com/biz/via-313-pizza-gateway...           177   \n",
       "2  https://www.yelp.com/biz/yaghis-pizzeria-san-a...           284   \n",
       "3  https://www.yelp.com/biz/poppys-pizza-san-anto...           351   \n",
       "4  https://www.yelp.com/biz/goombas-pizzeria-san-...           231   \n",
       "\n",
       "                                          categories  rating  \\\n",
       "0  [{'alias': 'pizza', 'title': 'Pizza'}, {'alias...     4.0   \n",
       "1             [{'alias': 'pizza', 'title': 'Pizza'}]     4.5   \n",
       "2  [{'alias': 'pizza', 'title': 'Pizza'}, {'alias...     4.5   \n",
       "3  [{'alias': 'pizza', 'title': 'Pizza'}, {'alias...     4.0   \n",
       "4  [{'alias': 'pizza', 'title': 'Pizza'}, {'alias...     4.0   \n",
       "\n",
       "                                         coordinates        transactions  \\\n",
       "0  {'latitude': 29.5195143, 'longitude': -98.5069...          [delivery]   \n",
       "1     {'latitude': 29.520115, 'longitude': -98.5745}                  []   \n",
       "2  {'latitude': 29.5272754228422, 'longitude': -9...          [delivery]   \n",
       "3   {'latitude': 29.522676, 'longitude': -98.506518}  [pickup, delivery]   \n",
       "4  {'latitude': 29.5325103526716, 'longitude': -9...  [pickup, delivery]   \n",
       "\n",
       "  price                                           location         phone  \\\n",
       "0    $$  {'address1': '6989 Blanco Rd', 'address2': '',...  +12109796565   \n",
       "1    $$  {'address1': '8435 Wurzbach Rd', 'address2': '...  +12109851313   \n",
       "2     $  {'address1': '5910 Babcock Rd', 'address2': 'S...  +12105588787   \n",
       "3     $  {'address1': '7115 Blanco Rd', 'address2': 'St...  +12103664000   \n",
       "4     $  {'address1': '9825 Ih 10 W', 'address2': '', '...  +12105611600   \n",
       "\n",
       "    display_phone     distance  \n",
       "0  (210) 979-6565  2093.693197  \n",
       "1  (210) 985-1313  4420.514542  \n",
       "2  (210) 558-8787  7234.937657  \n",
       "3  (210) 366-4000  2160.173616  \n",
       "4  (210) 561-1600  3414.669145  "
      ]
     },
     "execution_count": 18,
     "metadata": {},
     "output_type": "execute_result"
    }
   ],
   "source": [
    "df.head()"
   ]
  },
  {
   "cell_type": "code",
   "execution_count": 19,
   "id": "bdf0d925",
   "metadata": {},
   "outputs": [
    {
     "name": "stdout",
     "output_type": "stream",
     "text": [
      "<class 'pandas.core.frame.DataFrame'>\n",
      "RangeIndex: 508 entries, 0 to 507\n",
      "Data columns (total 16 columns):\n",
      " #   Column         Non-Null Count  Dtype  \n",
      "---  ------         --------------  -----  \n",
      " 0   id             508 non-null    object \n",
      " 1   alias          508 non-null    object \n",
      " 2   name           508 non-null    object \n",
      " 3   image_url      508 non-null    object \n",
      " 4   is_closed      508 non-null    bool   \n",
      " 5   url            508 non-null    object \n",
      " 6   review_count   508 non-null    int64  \n",
      " 7   categories     508 non-null    object \n",
      " 8   rating         508 non-null    float64\n",
      " 9   coordinates    508 non-null    object \n",
      " 10  transactions   508 non-null    object \n",
      " 11  price          442 non-null    object \n",
      " 12  location       508 non-null    object \n",
      " 13  phone          508 non-null    object \n",
      " 14  display_phone  508 non-null    object \n",
      " 15  distance       508 non-null    float64\n",
      "dtypes: bool(1), float64(2), int64(1), object(12)\n",
      "memory usage: 60.2+ KB\n"
     ]
    }
   ],
   "source": [
    "df.info()"
   ]
  },
  {
   "cell_type": "markdown",
   "id": "1b3cc21a",
   "metadata": {},
   "source": [
    "### Save file as .csv.gz"
   ]
  },
  {
   "cell_type": "code",
   "execution_count": 21,
   "id": "40129931",
   "metadata": {},
   "outputs": [
    {
     "data": {
      "text/plain": [
       "'Data/San Antonio-pizza.csv.gz'"
      ]
     },
     "execution_count": 21,
     "metadata": {},
     "output_type": "execute_result"
    }
   ],
   "source": [
    "#convert from json file to csv.gz file\n",
    "csv_file = JSON_FILE.replace('.json','.csv.gz')\n",
    "csv_file"
   ]
  },
  {
   "cell_type": "code",
   "execution_count": 22,
   "id": "e7b10947",
   "metadata": {},
   "outputs": [],
   "source": [
    "#save it as a compressed csv to save space\n",
    "df.to_csv(csv_file,compression = 'gzip', index=False)"
   ]
  }
 ],
 "metadata": {
  "kernelspec": {
   "display_name": "Python 3 (ipykernel)",
   "language": "python",
   "name": "python3"
  },
  "language_info": {
   "codemirror_mode": {
    "name": "ipython",
    "version": 3
   },
   "file_extension": ".py",
   "mimetype": "text/x-python",
   "name": "python",
   "nbconvert_exporter": "python",
   "pygments_lexer": "ipython3",
   "version": "3.9.15"
  },
  "toc": {
   "base_numbering": 1,
   "nav_menu": {},
   "number_sections": false,
   "sideBar": true,
   "skip_h1_title": false,
   "title_cell": "Table of Contents",
   "title_sidebar": "Contents",
   "toc_cell": false,
   "toc_position": {},
   "toc_section_display": true,
   "toc_window_display": false
  }
 },
 "nbformat": 4,
 "nbformat_minor": 5
}
